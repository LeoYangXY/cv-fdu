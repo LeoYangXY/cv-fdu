{
 "cells": [
  {
   "cell_type": "code",
   "execution_count": 1,
   "id": "eec52b90-b0d6-4503-b8ef-46caff606d76",
   "metadata": {},
   "outputs": [],
   "source": [
    "import numpy as np\n",
    "import cupy as c\n",
    "class SGDTrainer:\n",
    "    def __init__(self, model, lr=0.01, lr_decay=0.95, reg_lambda=0.0):\n",
    "        self.model = model\n",
    "        self.lr = lr\n",
    "        self.lr_decay = lr_decay\n",
    "        self.reg_lambda = reg_lambda\n",
    "        self.best_val_acc = 0.0\n",
    "\n",
    "    def step(self):\n",
    "        # 获取模型参数和梯度\n",
    "        params = self.model.parameters()\n",
    "        grads = self.model.gradients()\n",
    "        \n",
    "        # 更新参数\n",
    "        for param, grad in zip(params, grads):\n",
    "            # 如果是权重（self.W），添加L2正则化梯度\n",
    "            if param.ndim == 2:  # 权重是二维矩阵\n",
    "                grad += (self.reg_lambda / param.shape[0]) * param\n",
    "            # 更新参数\n",
    "            # print(f\"Param mean: {np.mean(param):.4f} | Grad mean: {np.mean(grad):.4f}\")  # 通过print操作进行调试\n",
    "            param -= self.lr * grad\n",
    "\n",
    "    def decay_learning_rate(self):\n",
    "        \"\"\"学习率衰减\"\"\"\n",
    "        self.lr *= self.lr_decay"
   ]
  },
  {
   "cell_type": "code",
   "execution_count": null,
   "id": "a616a957-6a20-44f4-b059-a7a73ede684f",
   "metadata": {},
   "outputs": [],
   "source": []
  }
 ],
 "metadata": {
  "kernelspec": {
   "display_name": "Python 3 (ipykernel)",
   "language": "python",
   "name": "python3"
  },
  "language_info": {
   "codemirror_mode": {
    "name": "ipython",
    "version": 3
   },
   "file_extension": ".py",
   "mimetype": "text/x-python",
   "name": "python",
   "nbconvert_exporter": "python",
   "pygments_lexer": "ipython3",
   "version": "3.10.12"
  }
 },
 "nbformat": 4,
 "nbformat_minor": 5
}
