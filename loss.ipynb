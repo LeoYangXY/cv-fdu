{
 "cells": [
  {
   "cell_type": "code",
   "execution_count": 1,
   "id": "6c986c54-7fec-4e13-85e3-e39f0e611468",
   "metadata": {},
   "outputs": [],
   "source": [
    "import numpy as np\n",
    "import cupy as cp\n",
    "def cross_entropy_loss(logits, y_true, model, reg_lambda):\n",
    "    m = y_true.shape[0]\n",
    "    \n",
    "    # 数值稳定的Softmax\n",
    "    shifted_logits = logits - cp.max(logits, axis=1, keepdims=True)  # 防止指数溢出\n",
    "    exp_logits = cp.exp(shifted_logits)\n",
    "    probs = exp_logits / cp.sum(exp_logits, axis=1, keepdims=True)\n",
    "    \n",
    "    # 计算交叉熵损失\n",
    "    correct_log_probs = -shifted_logits[cp.arange(m), y_true] + cp.log(cp.sum(exp_logits, axis=1))\n",
    "    loss = cp.mean(correct_log_probs)\n",
    "    \n",
    "    # L2正则化\n",
    "    reg_loss = 0.5 * reg_lambda * sum(cp.sum(layer.W**2) for layer in model.layers if isinstance(layer, Linear))\n",
    "    total_loss = loss + reg_loss\n",
    "    \n",
    "    # 梯度计算\n",
    "    grad = probs.copy()\n",
    "    grad[cp.arange(m), y_true] -= 1\n",
    "    grad /= m  # 平均梯度\n",
    "    \n",
    "    return total_loss, grad"
   ]
  }
 ],
 "metadata": {
  "kernelspec": {
   "display_name": "Python 3 (ipykernel)",
   "language": "python",
   "name": "python3"
  },
  "language_info": {
   "codemirror_mode": {
    "name": "ipython",
    "version": 3
   },
   "file_extension": ".py",
   "mimetype": "text/x-python",
   "name": "python",
   "nbconvert_exporter": "python",
   "pygments_lexer": "ipython3",
   "version": "3.10.12"
  }
 },
 "nbformat": 4,
 "nbformat_minor": 5
}
